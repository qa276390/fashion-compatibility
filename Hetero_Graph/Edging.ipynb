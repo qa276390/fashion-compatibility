{
 "cells": [
  {
   "cell_type": "code",
   "execution_count": 2,
   "metadata": {},
   "outputs": [],
   "source": [
    "import joblib\n",
    "import os\n",
    "import torch\n",
    "import pandas as pd\n",
    "from tqdm import tqdm\n",
    "import json\n",
    "import numpy as np\n",
    "import pickle\n",
    "#embed = # numpy arrays"
   ]
  },
  {
   "cell_type": "code",
   "execution_count": 3,
   "metadata": {},
   "outputs": [],
   "source": [
    "dirname = 'polyvore_outfits'\n",
    "n_cluster = 20\n",
    "mode = 'train'\n",
    "#mode = 'test'\n",
    "name = mode+'ing_set'"
   ]
  },
  {
   "cell_type": "code",
   "execution_count": 4,
   "metadata": {},
   "outputs": [],
   "source": [
    "html_path = name + '_results.html'"
   ]
  },
  {
   "cell_type": "code",
   "execution_count": 5,
   "metadata": {},
   "outputs": [],
   "source": [
    "\n",
    "image_path = os.path.join('../data/', dirname, 'images')\n",
    "embeddings = np.load(os.path.join('../data', dirname , 'nondisjoint/'+mode+'_embeddings.npy'))\n",
    "indexlist = pd.read_csv(os.path.join('../data', dirname,'nondisjoint/'+mode+'_embed_index.csv'))\n",
    "data_json = os.path.join('../data', dirname, 'nondisjoint/'+mode+'.json') \n",
    "outfit_data = json.load(open(data_json, 'r'))\n",
    "\n",
    "# load test embedding\n",
    "raw_embeddings = embeddings\n",
    "\n"
   ]
  },
  {
   "cell_type": "code",
   "execution_count": 6,
   "metadata": {},
   "outputs": [
    {
     "name": "stdout",
     "output_type": "stream",
     "text": [
      "(204679, 64)\n",
      "(204679, 64)\n"
     ]
    }
   ],
   "source": [
    "print(embeddings.shape)\n",
    "print(raw_embeddings.shape)"
   ]
  },
  {
   "cell_type": "code",
   "execution_count": 7,
   "metadata": {},
   "outputs": [
    {
     "name": "stdout",
     "output_type": "stream",
     "text": [
      "../data/polyvore_outfits/images\n"
     ]
    }
   ],
   "source": [
    "print(image_path)"
   ]
  },
  {
   "cell_type": "markdown",
   "metadata": {},
   "source": [
    "### generate type masks"
   ]
  },
  {
   "cell_type": "code",
   "execution_count": 8,
   "metadata": {
    "scrolled": true
   },
   "outputs": [
    {
     "name": "stderr",
     "output_type": "stream",
     "text": [
      "100%|██████████| 204679/204679 [01:25<00:00, 2404.41it/s]\n"
     ]
    }
   ],
   "source": [
    "\n",
    "type2idxs = {key: torch.LongTensor(len(indexlist)).zero_() for key in indexlist['type'].unique()}\n",
    "for index, row in tqdm(indexlist.iterrows(), total=len(indexlist)):\n",
    "    type2idxs[row['type']][index] = 1"
   ]
  },
  {
   "cell_type": "markdown",
   "metadata": {},
   "source": [
    "### generate positive pair ( in index )"
   ]
  },
  {
   "cell_type": "code",
   "execution_count": null,
   "metadata": {
    "scrolled": true
   },
   "outputs": [
    {
     "name": "stderr",
     "output_type": "stream",
     "text": [
      " 64%|██████▍   | 34106/53306 [29:59<17:29, 18.30it/s]  "
     ]
    }
   ],
   "source": [
    "import os.path\n",
    "if os.path.isfile(mode+'_pos_pair.pickle'):\n",
    "    with open(mode+'_pos_pair.pickle','rb') as fp:\n",
    "        pickle.load(pos_pairs, fp)\n",
    "else:\n",
    "    pos_pairs = []\n",
    "    for outfit in tqdm(outfit_data):\n",
    "        items = outfit['items']\n",
    "        cnt = len(items)\n",
    "        outfit_id = outfit['set_id']\n",
    "        for j in range(cnt-1):\n",
    "            for k in range(j+1, cnt):\n",
    "                anc = int(items[j]['item_id'])\n",
    "                anc_ind = indexlist[indexlist.image==int(anc)].index.values[0]\n",
    "                pos = int(items[k]['item_id'])\n",
    "                pos_ind = indexlist[indexlist.image==int(pos)].index.values[0]\n",
    "                pos_pairs.append([outfit_id, anc_ind, pos_ind])\n",
    "    # save pos pairs\n",
    "    with open(mode+'_pos_pair.pickle','wb') as fp:\n",
    "        pickle.dump(pos_pairs, fp)"
   ]
  },
  {
   "cell_type": "code",
   "execution_count": null,
   "metadata": {},
   "outputs": [],
   "source": [
    "print(len(pos_pairs))"
   ]
  },
  {
   "cell_type": "code",
   "execution_count": null,
   "metadata": {},
   "outputs": [],
   "source": [
    "types = indexlist['type'].unique()\n",
    "#types = ['bottoms', 'tops']"
   ]
  },
  {
   "cell_type": "code",
   "execution_count": null,
   "metadata": {},
   "outputs": [],
   "source": [
    "for mask_type in types:\n",
    "    mask = type2idxs[mask_type]\n",
    "    typeindex = indexlist.iloc[mask.nonzero().view(-1)]\n",
    "    type_emb = raw_embeddings[mask.nonzero().view(-1)]\n",
    "    \n",
    "    #KNN predict\n",
    "    type_, num = mask_type, n_cluster\n",
    "    model = \"{}_{}.joblib\".format(type_, num)\n",
    "    kmeans = joblib.load(\"./model/{}\".format(model))\n",
    "    pred = kmeans.predict(type_emb)\n",
    "    \n",
    "    indexlist.loc[mask.nonzero().view(-1), 'class'] = pred"
   ]
  },
  {
   "cell_type": "code",
   "execution_count": null,
   "metadata": {
    "scrolled": true
   },
   "outputs": [],
   "source": [
    "indexlist"
   ]
  },
  {
   "cell_type": "code",
   "execution_count": null,
   "metadata": {
    "scrolled": true
   },
   "outputs": [],
   "source": [
    "col = []\n",
    "for _type in types:\n",
    "    for i in range(n_cluster):\n",
    "        col.append(_type+'_'+str(i))"
   ]
  },
  {
   "cell_type": "code",
   "execution_count": null,
   "metadata": {},
   "outputs": [],
   "source": [
    "AdjMat = pd.DataFrame(np.zeros((len(types)*n_cluster, len(types)*n_cluster)), columns = col, index = col)"
   ]
  },
  {
   "cell_type": "code",
   "execution_count": null,
   "metadata": {},
   "outputs": [],
   "source": [
    "AdjMat.head() # AdjMat[x][y]"
   ]
  },
  {
   "cell_type": "code",
   "execution_count": null,
   "metadata": {},
   "outputs": [],
   "source": [
    "for (outfit_id, anc_ind, pos_ind) in tqdm(pos_pairs):\n",
    "    \n",
    "    anc_type = indexlist.iloc[anc_ind]['type']\n",
    "    anc_class = indexlist.iloc[anc_ind]['class']\n",
    "    anc_col = anc_type+'_'+str(int(anc_class))\n",
    "    \n",
    "    pos_type = indexlist.iloc[pos_ind]['type']\n",
    "    pos_class = indexlist.iloc[pos_ind]['class']\n",
    "    pos_col = pos_type+'_'+str(int(pos_class))\n",
    "    \n",
    "    AdjMat[anc_col][pos_col] += 1\n",
    "    AdjMat[pos_col][anc_col] += 1\n",
    "    "
   ]
  },
  {
   "cell_type": "code",
   "execution_count": null,
   "metadata": {},
   "outputs": [],
   "source": [
    "AdjMat.head()"
   ]
  },
  {
   "cell_type": "code",
   "execution_count": null,
   "metadata": {},
   "outputs": [],
   "source": [
    "AdjMat.to_csv(name+'_AdjacencyMatrix.csv')"
   ]
  },
  {
   "cell_type": "code",
   "execution_count": null,
   "metadata": {},
   "outputs": [],
   "source": [
    "AdjMat.columns"
   ]
  },
  {
   "cell_type": "code",
   "execution_count": null,
   "metadata": {},
   "outputs": [],
   "source": [
    "import matplotlib.pyplot as plt\n",
    "import matplotlib.image as mpimg"
   ]
  },
  {
   "cell_type": "code",
   "execution_count": null,
   "metadata": {
    "scrolled": true
   },
   "outputs": [],
   "source": [
    "count = 0\n",
    "v_html = open(html_path, 'w')\n",
    "img_width = str(300)\n",
    "\n",
    "for row in tqdm(AdjMat.index):\n",
    "    for col in AdjMat.columns:\n",
    "        num = AdjMat[col][row]\n",
    "        if(num>5):        \n",
    "            \n",
    "            atype = row.split('_')[0]\n",
    "            aclass = int(row.split('_')[1])\n",
    "            \n",
    "            btype = col.split('_')[0]\n",
    "            bclass = int(col.split('_')[1])\n",
    "            if(atype==btype):\n",
    "                continue\n",
    "            if(not (atype=='tops' and btype=='bottoms')):\n",
    "                continue\n",
    "            count+=1\n",
    "            \n",
    "            v_html.write(\"<div id=\\\"image-table\\\"><table><tr>\")\n",
    "            \n",
    "            amask = type2idxs[atype]\n",
    "            aindexlist = indexlist.iloc[amask.nonzero().view(-1)]\n",
    "            #print(aindexlist.head())\n",
    "            aimages = aindexlist[aindexlist['class']==aclass].image.values\n",
    "            achoice = np.random.choice(aimages, size=5)\n",
    "            for imgid in achoice:\n",
    "                imgpath = os.path.join(image_path, str(imgid)+'.jpg')\n",
    "                img = mpimg.imread(imgpath)\n",
    "                imgplot = plt.imshow(img)\n",
    "                plt.show()\n",
    "                v_html.write(\"<td style=\\\"padding:5px\\\">\")\n",
    "                v_html.write(\"<img src=\\\"\"+imgpath + \"\\\" width=\\\"{}\\\">\".format(img_width))\n",
    "                v_html.write(\"<p style=\\\"text-align:center;font-size:30px;\\\">{}</p></td>\".format(atype))\n",
    "            \n",
    "            bmask = type2idxs[btype]\n",
    "            bindexlist = indexlist.iloc[bmask.nonzero().view(-1)]\n",
    "            bimages = bindexlist[bindexlist['class']==bclass].image.values\n",
    "            bchoice = np.random.choice(bimages, size=5)\n",
    "            for imgid in bchoice:\n",
    "                imgpath = os.path.join(image_path, str(imgid)+'.jpg')\n",
    "                img = mpimg.imread(imgpath)\n",
    "                imgplot = plt.imshow(img)\n",
    "                plt.show()\n",
    "                v_html.write(\"<td style=\\\"padding:5px\\\">\")\n",
    "                v_html.write(\"<img src=\\\"\"+imgpath + \"\\\" width=\\\"{}\\\">\".format(img_width))\n",
    "                v_html.write(\"<p style=\\\"text-align:center;font-size:30px;\\\">{}</p></td>\".format(btype))\n",
    "                \n",
    "            print('='*100)\n",
    "            \n",
    "            if count>500:\n",
    "                break"
   ]
  },
  {
   "cell_type": "markdown",
   "metadata": {},
   "source": [
    "### Plot"
   ]
  },
  {
   "cell_type": "code",
   "execution_count": 91,
   "metadata": {},
   "outputs": [],
   "source": [
    "from numpy import genfromtxt\n",
    "mydata = genfromtxt('testing_set_AdjacencyMatrix.csv', delimiter=',')"
   ]
  },
  {
   "cell_type": "code",
   "execution_count": 92,
   "metadata": {},
   "outputs": [
    {
     "name": "stdout",
     "output_type": "stream",
     "text": [
      "[[nan nan nan ... nan nan nan]\n",
      " [nan  2.  1. ...  5.  0.  0.]\n",
      " [nan  1.  2. ...  0.  0.  6.]\n",
      " ...\n",
      " [nan  5.  0. ...  0.  0.  0.]\n",
      " [nan  0.  0. ...  0.  0.  0.]\n",
      " [nan  0.  6. ...  0.  0.  0.]]\n",
      "<class 'numpy.ndarray'>\n",
      "[[2. 1. 0. ... 5. 0. 0.]\n",
      " [1. 2. 1. ... 0. 0. 6.]\n",
      " [0. 1. 8. ... 1. 0. 0.]\n",
      " ...\n",
      " [5. 0. 1. ... 0. 0. 0.]\n",
      " [0. 0. 0. ... 0. 0. 0.]\n",
      " [0. 6. 0. ... 0. 0. 0.]]\n",
      "(220, 220)\n",
      "(40, 40)\n"
     ]
    }
   ],
   "source": [
    "print(mydata)\n",
    "print(type(mydata))\n",
    "adjacency = mydata[1:,1:]\n",
    "print(adjacency)\n",
    "print(np.shape(adjacency))\n",
    "n = n_cluster\n",
    "adjacency = adjacency[6*n:8*n, 6*n:8*n]\n",
    "print(np.shape(adjacency))"
   ]
  },
  {
   "cell_type": "code",
   "execution_count": 93,
   "metadata": {},
   "outputs": [],
   "source": [
    "mylabel = {}\n",
    "for i,c in enumerate(AdjMat.columns):\n",
    "    mylabel.update({i: c})"
   ]
  },
  {
   "cell_type": "code",
   "execution_count": 94,
   "metadata": {},
   "outputs": [
    {
     "name": "stdout",
     "output_type": "stream",
     "text": [
      "            bottoms_0  bottoms_1  bottoms_2  bottoms_3  bottoms_4  bottoms_5  \\\n",
      "bottoms_0         0.0        3.0        2.0        1.0        2.0        4.0   \n",
      "bottoms_1         3.0       14.0        1.0        2.0        1.0        4.0   \n",
      "bottoms_2         2.0        1.0       14.0        3.0        2.0        7.0   \n",
      "bottoms_3         1.0        2.0        3.0       34.0        2.0        2.0   \n",
      "bottoms_4         2.0        1.0        2.0        2.0       16.0        0.0   \n",
      "bottoms_5         4.0        4.0        7.0        2.0        0.0       10.0   \n",
      "bottoms_6         4.0        5.0       12.0        2.0        1.0        8.0   \n",
      "bottoms_7         1.0        2.0        3.0        1.0        1.0        6.0   \n",
      "bottoms_8         1.0        2.0        2.0        2.0        1.0        1.0   \n",
      "bottoms_9         3.0        5.0        3.0        4.0        1.0        1.0   \n",
      "bottoms_10        0.0        2.0        2.0        4.0        0.0        1.0   \n",
      "bottoms_11        7.0        6.0        3.0        1.0        3.0        5.0   \n",
      "bottoms_12        7.0        6.0        6.0       10.0        4.0        9.0   \n",
      "bottoms_13        2.0        3.0        3.0        1.0        2.0        5.0   \n",
      "bottoms_14        2.0        2.0        1.0        2.0        2.0        2.0   \n",
      "bottoms_15        2.0        1.0        3.0        2.0        3.0        0.0   \n",
      "bottoms_16        4.0        4.0        8.0        2.0        1.0        7.0   \n",
      "bottoms_17        1.0        5.0        1.0        4.0        1.0        6.0   \n",
      "bottoms_18        0.0        0.0        1.0        2.0        2.0        1.0   \n",
      "bottoms_19        2.0        2.0        2.0        4.0        3.0        3.0   \n",
      "tops_0           41.0       68.0       58.0       80.0       39.0       40.0   \n",
      "tops_1          136.0      153.0       27.0       36.0      145.0      143.0   \n",
      "tops_2           83.0       71.0      164.0      106.0       78.0      319.0   \n",
      "tops_3          141.0      125.0       81.0       88.0      110.0      175.0   \n",
      "tops_4           96.0      153.0       46.0      101.0       80.0       66.0   \n",
      "tops_5           51.0       83.0       51.0       75.0      289.0       79.0   \n",
      "tops_6          124.0      132.0       74.0       23.0       37.0      137.0   \n",
      "tops_7           81.0       90.0      105.0       26.0       17.0       84.0   \n",
      "tops_8          109.0      104.0       69.0       46.0       42.0      214.0   \n",
      "tops_9          115.0      139.0       32.0       63.0       24.0       77.0   \n",
      "tops_10         100.0      117.0       52.0       14.0       32.0      101.0   \n",
      "tops_11          42.0       83.0       43.0       23.0       29.0       77.0   \n",
      "tops_12          71.0      111.0       62.0       40.0       31.0      124.0   \n",
      "tops_13          43.0       93.0       54.0      202.0       28.0       89.0   \n",
      "tops_14         110.0      117.0       59.0       44.0       60.0       99.0   \n",
      "tops_15          63.0       63.0       58.0      224.0       54.0       54.0   \n",
      "tops_16          89.0      109.0       92.0       49.0       46.0       83.0   \n",
      "tops_17          64.0       95.0       64.0      100.0      280.0      116.0   \n",
      "tops_18          56.0       88.0       59.0       92.0       45.0      112.0   \n",
      "tops_19          77.0      103.0       77.0      152.0      137.0      127.0   \n",
      "\n",
      "            bottoms_6  bottoms_7  bottoms_8  bottoms_9  ...  tops_10  tops_11  \\\n",
      "bottoms_0         4.0        1.0        1.0        3.0  ...    100.0     42.0   \n",
      "bottoms_1         5.0        2.0        2.0        5.0  ...    117.0     83.0   \n",
      "bottoms_2        12.0        3.0        2.0        3.0  ...     52.0     43.0   \n",
      "bottoms_3         2.0        1.0        2.0        4.0  ...     14.0     23.0   \n",
      "bottoms_4         1.0        1.0        1.0        1.0  ...     32.0     29.0   \n",
      "bottoms_5         8.0        6.0        1.0        1.0  ...    101.0     77.0   \n",
      "bottoms_6        10.0        3.0        7.0        4.0  ...    155.0    109.0   \n",
      "bottoms_7         3.0        4.0        0.0        4.0  ...     30.0     34.0   \n",
      "bottoms_8         7.0        0.0        8.0        3.0  ...    111.0     27.0   \n",
      "bottoms_9         4.0        4.0        3.0       10.0  ...     35.0     45.0   \n",
      "bottoms_10        0.0        1.0        5.0        2.0  ...     53.0     22.0   \n",
      "bottoms_11       10.0        2.0        1.0        5.0  ...     43.0    150.0   \n",
      "bottoms_12        5.0        1.0        5.0        6.0  ...     44.0    108.0   \n",
      "bottoms_13        3.0        1.0        0.0        3.0  ...     51.0     33.0   \n",
      "bottoms_14        1.0        1.0        1.0        1.0  ...     38.0     33.0   \n",
      "bottoms_15        0.0        1.0        3.0        3.0  ...     46.0     28.0   \n",
      "bottoms_16        6.0        0.0        3.0        3.0  ...     66.0     51.0   \n",
      "bottoms_17        9.0        0.0        1.0        7.0  ...     86.0    104.0   \n",
      "bottoms_18        0.0        4.0        0.0        2.0  ...     27.0     28.0   \n",
      "bottoms_19        4.0        0.0        2.0        4.0  ...     30.0     18.0   \n",
      "tops_0           78.0       42.0       31.0       48.0  ...      4.0      7.0   \n",
      "tops_1          167.0      103.0       62.0       42.0  ...     13.0     11.0   \n",
      "tops_2          229.0       96.0      131.0       75.0  ...     16.0     24.0   \n",
      "tops_3          187.0      118.0       81.0      104.0  ...     22.0     16.0   \n",
      "tops_4           53.0      147.0       56.0      208.0  ...     16.0     12.0   \n",
      "tops_5           63.0       86.0       61.0       84.0  ...      8.0     10.0   \n",
      "tops_6          245.0       88.0       46.0       35.0  ...     18.0     19.0   \n",
      "tops_7          201.0       31.0       55.0       36.0  ...     20.0     14.0   \n",
      "tops_8          248.0       55.0      103.0       42.0  ...     19.0     14.0   \n",
      "tops_9           94.0       57.0       46.0      128.0  ...     12.0     28.0   \n",
      "tops_10         155.0       30.0      111.0       35.0  ...     36.0      9.0   \n",
      "tops_11         109.0       34.0       27.0       45.0  ...      9.0     50.0   \n",
      "tops_12         108.0       78.0       39.0       80.0  ...      9.0     12.0   \n",
      "tops_13          43.0       52.0       46.0       99.0  ...      2.0      4.0   \n",
      "tops_14         123.0       44.0       44.0       41.0  ...      9.0     10.0   \n",
      "tops_15          53.0       69.0       28.0       47.0  ...      6.0     11.0   \n",
      "tops_16         152.0       55.0       56.0       68.0  ...     12.0     12.0   \n",
      "tops_17          81.0       80.0       57.0       64.0  ...     15.0      9.0   \n",
      "tops_18          57.0       62.0      166.0       99.0  ...     11.0      9.0   \n",
      "tops_19          87.0      143.0       81.0      161.0  ...     12.0      7.0   \n",
      "\n",
      "            tops_12  tops_13  tops_14  tops_15  tops_16  tops_17  tops_18  \\\n",
      "bottoms_0      71.0     43.0    110.0     63.0     89.0     64.0     56.0   \n",
      "bottoms_1     111.0     93.0    117.0     63.0    109.0     95.0     88.0   \n",
      "bottoms_2      62.0     54.0     59.0     58.0     92.0     64.0     59.0   \n",
      "bottoms_3      40.0    202.0     44.0    224.0     49.0    100.0     92.0   \n",
      "bottoms_4      31.0     28.0     60.0     54.0     46.0    280.0     45.0   \n",
      "bottoms_5     124.0     89.0     99.0     54.0     83.0    116.0    112.0   \n",
      "bottoms_6     108.0     43.0    123.0     53.0    152.0     81.0     57.0   \n",
      "bottoms_7      78.0     52.0     44.0     69.0     55.0     80.0     62.0   \n",
      "bottoms_8      39.0     46.0     44.0     28.0     56.0     57.0    166.0   \n",
      "bottoms_9      80.0     99.0     41.0     47.0     68.0     64.0     99.0   \n",
      "bottoms_10     44.0    158.0     29.0     61.0     45.0     55.0    165.0   \n",
      "bottoms_11     39.0     21.0     28.0     35.0     52.0     22.0     24.0   \n",
      "bottoms_12    100.0    127.0     79.0    114.0    190.0    124.0    161.0   \n",
      "bottoms_13     35.0     31.0     54.0     45.0     83.0     40.0     21.0   \n",
      "bottoms_14     40.0     56.0    220.0     44.0     50.0    200.0     36.0   \n",
      "bottoms_15     26.0     44.0    195.0     66.0     34.0    127.0     33.0   \n",
      "bottoms_16     96.0     50.0     80.0     59.0     47.0     75.0     87.0   \n",
      "bottoms_17    131.0     81.0     91.0     77.0    192.0    108.0     86.0   \n",
      "bottoms_18     53.0     58.0     21.0     73.0     51.0     93.0     65.0   \n",
      "bottoms_19     20.0     38.0     13.0     56.0     43.0     35.0     30.0   \n",
      "tops_0          3.0      7.0      3.0     16.0     12.0      3.0      7.0   \n",
      "tops_1          5.0      3.0     31.0     10.0      2.0     23.0      2.0   \n",
      "tops_2         14.0     15.0     16.0     18.0     30.0     12.0      6.0   \n",
      "tops_3          9.0      7.0     27.0     15.0     10.0      9.0      9.0   \n",
      "tops_4         14.0      6.0     18.0     15.0     19.0     12.0     11.0   \n",
      "tops_5          4.0      3.0      4.0     10.0      8.0     19.0     10.0   \n",
      "tops_6         16.0     11.0      6.0     17.0     13.0      6.0      5.0   \n",
      "tops_7          6.0      3.0      7.0      5.0     23.0      2.0      7.0   \n",
      "tops_8         11.0      5.0     28.0     11.0     18.0      9.0      8.0   \n",
      "tops_9          7.0     12.0     18.0      8.0     21.0      7.0      9.0   \n",
      "tops_10         9.0      2.0      9.0      6.0     12.0     15.0     11.0   \n",
      "tops_11        12.0      4.0     10.0     11.0     12.0      9.0      9.0   \n",
      "tops_12         4.0      2.0      9.0      3.0      5.0      7.0      7.0   \n",
      "tops_13         2.0     18.0      6.0     21.0      3.0      4.0      8.0   \n",
      "tops_14         9.0      6.0     50.0      8.0     11.0     33.0      5.0   \n",
      "tops_15         3.0     21.0      8.0     46.0     10.0     16.0      7.0   \n",
      "tops_16         5.0      3.0     11.0     10.0     24.0      5.0     11.0   \n",
      "tops_17         7.0      4.0     33.0     16.0      5.0     38.0     15.0   \n",
      "tops_18         7.0      8.0      5.0      7.0     11.0     15.0     22.0   \n",
      "tops_19        11.0     15.0     15.0     14.0     13.0     15.0     13.0   \n",
      "\n",
      "            tops_19  \n",
      "bottoms_0      77.0  \n",
      "bottoms_1     103.0  \n",
      "bottoms_2      77.0  \n",
      "bottoms_3     152.0  \n",
      "bottoms_4     137.0  \n",
      "bottoms_5     127.0  \n",
      "bottoms_6      87.0  \n",
      "bottoms_7     143.0  \n",
      "bottoms_8      81.0  \n",
      "bottoms_9     161.0  \n",
      "bottoms_10     83.0  \n",
      "bottoms_11     41.0  \n",
      "bottoms_12    222.0  \n",
      "bottoms_13     68.0  \n",
      "bottoms_14     90.0  \n",
      "bottoms_15     48.0  \n",
      "bottoms_16     76.0  \n",
      "bottoms_17    161.0  \n",
      "bottoms_18    136.0  \n",
      "bottoms_19     89.0  \n",
      "tops_0         12.0  \n",
      "tops_1          8.0  \n",
      "tops_2         21.0  \n",
      "tops_3         16.0  \n",
      "tops_4         27.0  \n",
      "tops_5          6.0  \n",
      "tops_6         16.0  \n",
      "tops_7          5.0  \n",
      "tops_8         21.0  \n",
      "tops_9         22.0  \n",
      "tops_10        12.0  \n",
      "tops_11         7.0  \n",
      "tops_12        11.0  \n",
      "tops_13        15.0  \n",
      "tops_14        15.0  \n",
      "tops_15        14.0  \n",
      "tops_16        13.0  \n",
      "tops_17        15.0  \n",
      "tops_18        13.0  \n",
      "tops_19        14.0  \n",
      "\n",
      "[40 rows x 40 columns]\n"
     ]
    }
   ],
   "source": [
    "#print(AdjMat.columns)\n",
    "#print(types)\n",
    "print(AdjMat.iloc[6*n:8*n, 6*n:8*n])"
   ]
  },
  {
   "cell_type": "code",
   "execution_count": 95,
   "metadata": {},
   "outputs": [],
   "source": [
    "ncolor = []\n",
    "len_color = len(types)\n",
    "len_color = 2\n",
    "for i in range(len_color):\n",
    "    ncolor = ncolor + [i]*n_cluster"
   ]
  },
  {
   "cell_type": "code",
   "execution_count": 96,
   "metadata": {
    "scrolled": true
   },
   "outputs": [
    {
     "data": {
      "text/plain": [
       "[0,\n",
       " 0,\n",
       " 0,\n",
       " 0,\n",
       " 0,\n",
       " 0,\n",
       " 0,\n",
       " 0,\n",
       " 0,\n",
       " 0,\n",
       " 0,\n",
       " 0,\n",
       " 0,\n",
       " 0,\n",
       " 0,\n",
       " 0,\n",
       " 0,\n",
       " 0,\n",
       " 0,\n",
       " 0,\n",
       " 1,\n",
       " 1,\n",
       " 1,\n",
       " 1,\n",
       " 1,\n",
       " 1,\n",
       " 1,\n",
       " 1,\n",
       " 1,\n",
       " 1,\n",
       " 1,\n",
       " 1,\n",
       " 1,\n",
       " 1,\n",
       " 1,\n",
       " 1,\n",
       " 1,\n",
       " 1,\n",
       " 1,\n",
       " 1]"
      ]
     },
     "execution_count": 96,
     "metadata": {},
     "output_type": "execute_result"
    }
   ],
   "source": [
    "ncolor"
   ]
  },
  {
   "cell_type": "code",
   "execution_count": 97,
   "metadata": {
    "scrolled": true
   },
   "outputs": [
    {
     "name": "stdout",
     "output_type": "stream",
     "text": [
      "[0. 0. 0. 0. 0. 0. 0. 1. 1. 0. 0. 0. 0. 0. 1. 1. 0. 0. 0. 0. 0. 0. 1. 2.\n",
      " 0. 0. 0. 0. 3. 1. 0. 1. 0. 1. 3. 2. 0. 4. 0. 0.]\n",
      "[0. 4. 0. 0. 1. 0. 1. 1. 0. 1. 2. 1. 0. 0. 0. 1. 0. 3. 2. 0. 0. 0. 1. 0.\n",
      " 1. 0. 0. 0. 0. 0. 0. 0. 0. 0. 0. 0. 0. 2. 2. 0.]\n",
      "[0. 0. 4. 0. 1. 0. 0. 0. 0. 0. 0. 0. 0. 0. 1. 3. 0. 0. 3. 0. 1. 3. 1. 4.\n",
      " 2. 2. 0. 0. 0. 3. 0. 2. 2. 0. 0. 1. 2. 0. 2. 1.]\n",
      "[0. 0. 0. 0. 0. 0. 0. 3. 0. 0. 0. 1. 0. 0. 0. 0. 0. 0. 3. 1. 0. 0. 2. 0.\n",
      " 1. 0. 0. 0. 0. 0. 0. 2. 1. 1. 2. 3. 0. 2. 1. 4.]\n",
      "[0. 1. 1. 0. 2. 0. 1. 1. 3. 0. 0. 0. 0. 0. 0. 0. 0. 0. 0. 0. 0. 0. 1. 1.\n",
      " 1. 2. 1. 1. 0. 1. 2. 1. 0. 0. 1. 0. 0. 2. 0. 1.]\n",
      "[0. 0. 0. 0. 0. 2. 0. 0. 1. 0. 0. 0. 3. 1. 1. 0. 0. 0. 1. 0. 2. 0. 4. 1.\n",
      " 1. 0. 1. 1. 0. 1. 0. 1. 1. 2. 0. 0. 2. 2. 0. 5.]\n",
      "[ 0.  1.  0.  0.  1.  0.  2.  1.  0.  0.  0.  1.  0.  0.  2.  0.  0.  2.\n",
      "  5.  0.  1.  1.  1.  1. 11.  0.  1.  0.  1.  1.  0.  2.  2.  2.  1.  2.\n",
      "  0.  2.  4.  2.]\n",
      "[1. 1. 0. 3. 1. 0. 1. 4. 0. 0. 1. 0. 0. 0. 0. 0. 0. 0. 1. 0. 0. 0. 0. 0.\n",
      " 2. 2. 0. 0. 0. 0. 0. 0. 0. 1. 0. 2. 0. 1. 0. 0.]\n",
      "[1. 0. 0. 0. 3. 1. 0. 0. 6. 1. 0. 1. 1. 0. 1. 0. 0. 0. 0. 0. 0. 0. 0. 3.\n",
      " 1. 0. 2. 0. 3. 0. 0. 0. 1. 1. 1. 1. 0. 2. 0. 3.]\n",
      "[0. 1. 0. 0. 0. 0. 0. 0. 1. 2. 0. 0. 0. 1. 0. 0. 0. 0. 0. 1. 0. 0. 1. 0.\n",
      " 0. 0. 1. 0. 2. 0. 2. 1. 0. 0. 1. 0. 0. 1. 0. 0.]\n",
      "[0. 2. 0. 0. 0. 0. 0. 1. 0. 0. 0. 0. 0. 0. 0. 0. 0. 0. 2. 0. 1. 0. 0. 0.\n",
      " 1. 0. 0. 0. 0. 0. 0. 0. 0. 0. 1. 0. 0. 0. 1. 1.]\n",
      "[0. 1. 0. 1. 0. 0. 1. 0. 1. 0. 0. 8. 2. 0. 0. 1. 0. 0. 0. 0. 0. 1. 1. 0.\n",
      " 0. 1. 0. 0. 0. 2. 1. 0. 0. 2. 0. 0. 0. 1. 0. 0.]\n",
      "[ 0.  0.  0.  0.  0.  3.  0.  0.  1.  0.  0.  2.  8.  0.  0.  0.  1.  2.\n",
      "  2.  0.  0.  1. 11.  0.  1.  1.  0.  1.  3.  1.  1.  1.  1.  1.  1.  3.\n",
      "  3.  2.  2.  2.]\n",
      "[0. 0. 0. 0. 0. 1. 0. 0. 0. 1. 0. 0. 0. 0. 0. 0. 0. 0. 1. 1. 0. 1. 0. 2.\n",
      " 1. 0. 1. 0. 0. 0. 1. 1. 0. 0. 0. 0. 1. 1. 0. 1.]\n",
      "[1. 0. 1. 0. 0. 1. 2. 0. 1. 0. 0. 0. 0. 0. 4. 0. 0. 0. 4. 0. 2. 0. 3. 1.\n",
      " 3. 1. 0. 1. 0. 2. 0. 8. 1. 0. 1. 2. 2. 1. 0. 2.]\n",
      "[1. 1. 3. 0. 0. 0. 0. 0. 0. 0. 0. 1. 0. 0. 0. 6. 0. 2. 0. 0. 0. 0. 0. 1.\n",
      " 0. 1. 0. 0. 1. 1. 0. 0. 0. 0. 1. 0. 0. 0. 7. 1.]\n",
      "[0. 0. 0. 0. 0. 0. 0. 0. 0. 0. 0. 0. 1. 0. 0. 0. 2. 0. 3. 0. 0. 1. 1. 1.\n",
      " 2. 1. 0. 0. 0. 1. 0. 0. 0. 2. 2. 0. 0. 2. 0. 2.]\n",
      "[0. 3. 0. 0. 0. 0. 2. 0. 0. 0. 0. 0. 2. 0. 0. 2. 0. 2. 2. 0. 0. 0. 0. 0.\n",
      " 0. 2. 0. 0. 0. 0. 1. 0. 0. 0. 2. 1. 0. 0. 1. 2.]\n",
      "[0. 2. 3. 3. 0. 1. 5. 1. 0. 0. 2. 0. 2. 1. 4. 0. 3. 2. 0. 1. 0. 0. 2. 2.\n",
      " 7. 4. 0. 1. 0. 1. 0. 4. 0. 7. 0. 8. 3. 2. 2. 7.]\n",
      "[0. 0. 0. 1. 0. 0. 0. 0. 0. 1. 0. 0. 0. 1. 0. 0. 0. 0. 1. 0. 0. 0. 6. 6.\n",
      " 0. 1. 1. 0. 2. 0. 2. 0. 1. 0. 0. 1. 0. 0. 2. 1.]\n",
      "[0. 0. 1. 0. 0. 2. 1. 0. 0. 0. 1. 0. 0. 0. 2. 0. 0. 0. 0. 0. 2. 1. 4. 4.\n",
      " 0. 1. 3. 1. 1. 2. 0. 3. 0. 2. 0. 3. 1. 1. 0. 2.]\n",
      "[ 0.  0.  3.  0.  0.  0.  1.  0.  0.  0.  0.  1.  1.  1.  0.  0.  1.  0.\n",
      "  0.  0.  1.  6.  2.  4.  1.  7.  7.  0.  0.  1.  0.  4.  3.  2.  5.  1.\n",
      "  3. 10.  0.  1.]\n",
      "[ 1.  1.  1.  2.  1.  4.  1.  0.  0.  1.  0.  1. 11.  0.  3.  0.  1.  0.\n",
      "  2.  6.  4.  2. 12. 10.  2.  1.  7.  5.  7.  2.  4.  5.  4.  0.  7.  5.\n",
      "  2.  2.  3.  4.]\n",
      "[ 2.  0.  4.  0.  1.  1.  1.  0.  3.  0.  0.  0.  0.  2.  1.  1.  1.  0.\n",
      "  2.  6.  4.  4. 10.  6.  3.  4. 11.  3.  7.  4.  6.  2.  2.  3.  3.  4.\n",
      "  2.  4.  1.  1.]\n",
      "[ 0.  1.  2.  1.  1.  1. 11.  2.  1.  0.  1.  0.  1.  1.  3.  0.  2.  0.\n",
      "  7.  0.  0.  1.  2.  3.  6.  1.  9.  1.  1.  4.  1.  3.  0.  3.  2.  2.\n",
      "  2.  5.  2.  6.]\n",
      "[0. 0. 2. 0. 2. 0. 0. 2. 0. 0. 0. 1. 1. 0. 1. 1. 1. 2. 4. 1. 1. 7. 1. 4.\n",
      " 1. 0. 2. 0. 0. 2. 0. 1. 1. 1. 1. 0. 0. 1. 0. 2.]\n",
      "[ 0.  0.  0.  0.  1.  1.  1.  0.  2.  1.  0.  0.  0.  1.  0.  0.  0.  0.\n",
      "  0.  1.  3.  7.  7. 11.  9.  2. 14.  7.  4.  5.  4.  5.  2.  1.  1.  2.\n",
      "  5.  3.  1.  9.]\n",
      "[ 0.  0.  0.  0.  1.  1.  0.  0.  0.  0.  0.  0.  1.  0.  1.  0.  0.  0.\n",
      "  1.  0.  1.  0.  5.  3.  1.  0.  7. 10.  3.  1.  1.  4.  3.  0.  0.  1.\n",
      "  0.  1.  3.  0.]\n",
      "[ 3.  0.  0.  0.  0.  0.  1.  0.  3.  2.  0.  0.  3.  0.  0.  1.  0.  0.\n",
      "  0.  2.  1.  0.  7.  7.  1.  0.  4.  3. 14.  1.  8.  1.  2.  1.  8.  3.\n",
      "  2.  3.  2.  1.]\n",
      "[1. 0. 3. 0. 1. 1. 1. 0. 0. 0. 0. 2. 1. 0. 2. 1. 1. 0. 1. 0. 2. 1. 2. 4.\n",
      " 4. 2. 5. 1. 1. 2. 2. 3. 3. 4. 1. 2. 9. 3. 0. 3.]\n",
      "[0. 0. 0. 0. 2. 0. 0. 0. 0. 2. 0. 1. 1. 1. 0. 0. 0. 1. 0. 2. 0. 0. 4. 6.\n",
      " 1. 0. 4. 1. 8. 2. 4. 1. 1. 2. 1. 2. 4. 3. 3. 1.]\n",
      "[ 1.  0.  2.  2.  1.  1.  2.  0.  0.  1.  0.  0.  1.  1.  8.  0.  0.  0.\n",
      "  4.  0.  3.  4.  5.  2.  3.  1.  5.  4.  1.  3.  1. 18.  4.  1.  2.  3.\n",
      "  4.  2.  2.  3.]\n",
      "[0. 0. 2. 1. 0. 1. 2. 0. 1. 0. 0. 0. 1. 0. 1. 0. 0. 0. 0. 1. 0. 3. 4. 2.\n",
      " 0. 1. 2. 3. 2. 3. 1. 4. 0. 3. 2. 0. 1. 2. 1. 1.]\n",
      "[1. 0. 0. 1. 0. 2. 2. 1. 1. 0. 0. 2. 1. 0. 0. 0. 2. 0. 7. 0. 2. 2. 0. 3.\n",
      " 3. 1. 1. 0. 1. 4. 2. 1. 3. 0. 0. 6. 1. 0. 1. 2.]\n",
      "[3. 0. 0. 2. 1. 0. 1. 0. 1. 1. 1. 0. 1. 0. 1. 1. 2. 2. 0. 0. 0. 5. 7. 3.\n",
      " 2. 1. 1. 0. 8. 1. 1. 2. 2. 0. 8. 1. 0. 8. 1. 1.]\n",
      "[ 2.  0.  1.  3.  0.  0.  2.  2.  1.  0.  0.  0.  3.  0.  2.  0.  0.  1.\n",
      "  8.  1.  3.  1.  5.  4.  2.  0.  2.  1.  3.  2.  2.  3.  0.  6.  1. 18.\n",
      "  3.  2.  1.  8.]\n",
      "[0. 0. 2. 0. 0. 2. 0. 0. 0. 0. 0. 0. 3. 1. 2. 0. 0. 0. 3. 0. 1. 3. 2. 2.\n",
      " 2. 0. 5. 0. 2. 9. 4. 4. 1. 1. 0. 3. 4. 0. 0. 1.]\n",
      "[ 4.  2.  0.  2.  2.  2.  2.  1.  2.  1.  0.  1.  2.  1.  1.  0.  2.  0.\n",
      "  2.  0.  1. 10.  2.  4.  5.  1.  3.  1.  3.  3.  3.  2.  2.  0.  8.  2.\n",
      "  0.  6.  1.  7.]\n",
      "[ 0.  2.  2.  1.  0.  0.  4.  0.  0.  0.  1.  0.  2.  0.  0.  7.  0.  1.\n",
      "  2.  2.  0.  0.  3.  1.  2.  0.  1.  3.  2.  0.  3.  2.  1.  1.  1.  1.\n",
      "  0.  1. 12.  0.]\n",
      "[0. 0. 1. 4. 1. 5. 2. 0. 3. 0. 1. 0. 2. 1. 2. 1. 2. 2. 7. 1. 2. 1. 4. 1.\n",
      " 6. 2. 9. 0. 1. 3. 1. 3. 1. 2. 1. 8. 1. 7. 0. 2.]\n"
     ]
    }
   ],
   "source": [
    "for k in adjacency:\n",
    "    print(k)"
   ]
  },
  {
   "cell_type": "code",
   "execution_count": 98,
   "metadata": {
    "scrolled": true
   },
   "outputs": [
    {
     "name": "stdout",
     "output_type": "stream",
     "text": [
      "[ 6 12 22 22 23 24 26 26 28 31 35 38]\n",
      "[24 22 12 22 26  6 23 26 28 31 35 38]\n"
     ]
    },
    {
     "ename": "ValueError",
     "evalue": "'c' argument has 40 elements, which is not acceptable for use with 'x' with size 10, 'y' with size 10.",
     "output_type": "error",
     "traceback": [
      "\u001b[0;31m---------------------------------------------------------------------------\u001b[0m",
      "\u001b[0;31mValueError\u001b[0m                                Traceback (most recent call last)",
      "\u001b[0;32m/opt/python/lib/python3.6/site-packages/matplotlib/axes/_axes.py\u001b[0m in \u001b[0;36m_parse_scatter_color_args\u001b[0;34m(c, edgecolors, kwargs, xshape, yshape, get_next_color_func)\u001b[0m\n\u001b[1;32m   4284\u001b[0m             \u001b[0;32mtry\u001b[0m\u001b[0;34m:\u001b[0m  \u001b[0;31m# Then is 'c' acceptable as PathCollection facecolors?\u001b[0m\u001b[0;34m\u001b[0m\u001b[0;34m\u001b[0m\u001b[0m\n\u001b[0;32m-> 4285\u001b[0;31m                 \u001b[0mcolors\u001b[0m \u001b[0;34m=\u001b[0m \u001b[0mmcolors\u001b[0m\u001b[0;34m.\u001b[0m\u001b[0mto_rgba_array\u001b[0m\u001b[0;34m(\u001b[0m\u001b[0mc\u001b[0m\u001b[0;34m)\u001b[0m\u001b[0;34m\u001b[0m\u001b[0;34m\u001b[0m\u001b[0m\n\u001b[0m\u001b[1;32m   4286\u001b[0m                 \u001b[0mn_elem\u001b[0m \u001b[0;34m=\u001b[0m \u001b[0mcolors\u001b[0m\u001b[0;34m.\u001b[0m\u001b[0mshape\u001b[0m\u001b[0;34m[\u001b[0m\u001b[0;36m0\u001b[0m\u001b[0;34m]\u001b[0m\u001b[0;34m\u001b[0m\u001b[0;34m\u001b[0m\u001b[0m\n",
      "\u001b[0;32m/opt/python/lib/python3.6/site-packages/matplotlib/colors.py\u001b[0m in \u001b[0;36mto_rgba_array\u001b[0;34m(c, alpha)\u001b[0m\n\u001b[1;32m    293\u001b[0m     \u001b[0;32mfor\u001b[0m \u001b[0mi\u001b[0m\u001b[0;34m,\u001b[0m \u001b[0mcc\u001b[0m \u001b[0;32min\u001b[0m \u001b[0menumerate\u001b[0m\u001b[0;34m(\u001b[0m\u001b[0mc\u001b[0m\u001b[0;34m)\u001b[0m\u001b[0;34m:\u001b[0m\u001b[0;34m\u001b[0m\u001b[0;34m\u001b[0m\u001b[0m\n\u001b[0;32m--> 294\u001b[0;31m         \u001b[0mresult\u001b[0m\u001b[0;34m[\u001b[0m\u001b[0mi\u001b[0m\u001b[0;34m]\u001b[0m \u001b[0;34m=\u001b[0m \u001b[0mto_rgba\u001b[0m\u001b[0;34m(\u001b[0m\u001b[0mcc\u001b[0m\u001b[0;34m,\u001b[0m \u001b[0malpha\u001b[0m\u001b[0;34m)\u001b[0m\u001b[0;34m\u001b[0m\u001b[0;34m\u001b[0m\u001b[0m\n\u001b[0m\u001b[1;32m    295\u001b[0m     \u001b[0;32mreturn\u001b[0m \u001b[0mresult\u001b[0m\u001b[0;34m\u001b[0m\u001b[0;34m\u001b[0m\u001b[0m\n",
      "\u001b[0;32m/opt/python/lib/python3.6/site-packages/matplotlib/colors.py\u001b[0m in \u001b[0;36mto_rgba\u001b[0;34m(c, alpha)\u001b[0m\n\u001b[1;32m    176\u001b[0m     \u001b[0;32mif\u001b[0m \u001b[0mrgba\u001b[0m \u001b[0;32mis\u001b[0m \u001b[0;32mNone\u001b[0m\u001b[0;34m:\u001b[0m  \u001b[0;31m# Suppress exception chaining of cache lookup failure.\u001b[0m\u001b[0;34m\u001b[0m\u001b[0;34m\u001b[0m\u001b[0m\n\u001b[0;32m--> 177\u001b[0;31m         \u001b[0mrgba\u001b[0m \u001b[0;34m=\u001b[0m \u001b[0m_to_rgba_no_colorcycle\u001b[0m\u001b[0;34m(\u001b[0m\u001b[0mc\u001b[0m\u001b[0;34m,\u001b[0m \u001b[0malpha\u001b[0m\u001b[0;34m)\u001b[0m\u001b[0;34m\u001b[0m\u001b[0;34m\u001b[0m\u001b[0m\n\u001b[0m\u001b[1;32m    178\u001b[0m         \u001b[0;32mtry\u001b[0m\u001b[0;34m:\u001b[0m\u001b[0;34m\u001b[0m\u001b[0;34m\u001b[0m\u001b[0m\n",
      "\u001b[0;32m/opt/python/lib/python3.6/site-packages/matplotlib/colors.py\u001b[0m in \u001b[0;36m_to_rgba_no_colorcycle\u001b[0;34m(c, alpha)\u001b[0m\n\u001b[1;32m    239\u001b[0m         \u001b[0;31m# Test dimensionality to reject single floats.\u001b[0m\u001b[0;34m\u001b[0m\u001b[0;34m\u001b[0m\u001b[0;34m\u001b[0m\u001b[0m\n\u001b[0;32m--> 240\u001b[0;31m         \u001b[0;32mraise\u001b[0m \u001b[0mValueError\u001b[0m\u001b[0;34m(\u001b[0m\u001b[0;34m\"Invalid RGBA argument: {!r}\"\u001b[0m\u001b[0;34m.\u001b[0m\u001b[0mformat\u001b[0m\u001b[0;34m(\u001b[0m\u001b[0morig_c\u001b[0m\u001b[0;34m)\u001b[0m\u001b[0;34m)\u001b[0m\u001b[0;34m\u001b[0m\u001b[0;34m\u001b[0m\u001b[0m\n\u001b[0m\u001b[1;32m    241\u001b[0m     \u001b[0;31m# Return a tuple to prevent the cached value from being modified.\u001b[0m\u001b[0;34m\u001b[0m\u001b[0;34m\u001b[0m\u001b[0;34m\u001b[0m\u001b[0m\n",
      "\u001b[0;31mValueError\u001b[0m: Invalid RGBA argument: 0",
      "\nDuring handling of the above exception, another exception occurred:\n",
      "\u001b[0;31mValueError\u001b[0m                                Traceback (most recent call last)",
      "\u001b[0;32m<ipython-input-98-41ad93097f55>\u001b[0m in \u001b[0;36m<module>\u001b[0;34m\u001b[0m\n\u001b[1;32m     14\u001b[0m     \u001b[0mplt\u001b[0m\u001b[0;34m.\u001b[0m\u001b[0mshow\u001b[0m\u001b[0;34m(\u001b[0m\u001b[0;34m)\u001b[0m\u001b[0;34m\u001b[0m\u001b[0;34m\u001b[0m\u001b[0m\n\u001b[1;32m     15\u001b[0m \u001b[0;34m\u001b[0m\u001b[0m\n\u001b[0;32m---> 16\u001b[0;31m \u001b[0mshow_graph_with_labels\u001b[0m\u001b[0;34m(\u001b[0m\u001b[0madjacency\u001b[0m\u001b[0;34m,\u001b[0m \u001b[0mmylabel\u001b[0m\u001b[0;34m)\u001b[0m\u001b[0;34m\u001b[0m\u001b[0;34m\u001b[0m\u001b[0m\n\u001b[0m",
      "\u001b[0;32m<ipython-input-98-41ad93097f55>\u001b[0m in \u001b[0;36mshow_graph_with_labels\u001b[0;34m(adjacency_matrix, mylabels)\u001b[0m\n\u001b[1;32m     11\u001b[0m     \u001b[0mgr\u001b[0m\u001b[0;34m.\u001b[0m\u001b[0madd_edges_from\u001b[0m\u001b[0;34m(\u001b[0m\u001b[0medges\u001b[0m\u001b[0;34m)\u001b[0m\u001b[0;34m\u001b[0m\u001b[0;34m\u001b[0m\u001b[0m\n\u001b[1;32m     12\u001b[0m     \u001b[0;31m#nx.draw(gr, node_size=500, labels=mylabels, with_labels=True)\u001b[0m\u001b[0;34m\u001b[0m\u001b[0;34m\u001b[0m\u001b[0;34m\u001b[0m\u001b[0m\n\u001b[0;32m---> 13\u001b[0;31m     \u001b[0mnx\u001b[0m\u001b[0;34m.\u001b[0m\u001b[0mdraw\u001b[0m\u001b[0;34m(\u001b[0m\u001b[0mgr\u001b[0m\u001b[0;34m,\u001b[0m \u001b[0mnode_color\u001b[0m \u001b[0;34m=\u001b[0m \u001b[0mncolor\u001b[0m \u001b[0;34m,\u001b[0m\u001b[0mpos\u001b[0m\u001b[0;34m=\u001b[0m\u001b[0mnx\u001b[0m\u001b[0;34m.\u001b[0m\u001b[0mspring_layout\u001b[0m\u001b[0;34m(\u001b[0m\u001b[0mgr\u001b[0m\u001b[0;34m)\u001b[0m\u001b[0;34m,\u001b[0m \u001b[0mcmap\u001b[0m\u001b[0;34m=\u001b[0m\u001b[0mplt\u001b[0m\u001b[0;34m.\u001b[0m\u001b[0mcm\u001b[0m\u001b[0;34m.\u001b[0m\u001b[0mjet\u001b[0m\u001b[0;34m)\u001b[0m\u001b[0;34m\u001b[0m\u001b[0;34m\u001b[0m\u001b[0m\n\u001b[0m\u001b[1;32m     14\u001b[0m     \u001b[0mplt\u001b[0m\u001b[0;34m.\u001b[0m\u001b[0mshow\u001b[0m\u001b[0;34m(\u001b[0m\u001b[0;34m)\u001b[0m\u001b[0;34m\u001b[0m\u001b[0;34m\u001b[0m\u001b[0m\n\u001b[1;32m     15\u001b[0m \u001b[0;34m\u001b[0m\u001b[0m\n",
      "\u001b[0;32m/opt/python/lib/python3.6/site-packages/networkx/drawing/nx_pylab.py\u001b[0m in \u001b[0;36mdraw\u001b[0;34m(G, pos, ax, **kwds)\u001b[0m\n\u001b[1;32m    126\u001b[0m \u001b[0;34m\u001b[0m\u001b[0m\n\u001b[1;32m    127\u001b[0m     \u001b[0;32mtry\u001b[0m\u001b[0;34m:\u001b[0m\u001b[0;34m\u001b[0m\u001b[0;34m\u001b[0m\u001b[0m\n\u001b[0;32m--> 128\u001b[0;31m         \u001b[0mdraw_networkx\u001b[0m\u001b[0;34m(\u001b[0m\u001b[0mG\u001b[0m\u001b[0;34m,\u001b[0m \u001b[0mpos\u001b[0m\u001b[0;34m=\u001b[0m\u001b[0mpos\u001b[0m\u001b[0;34m,\u001b[0m \u001b[0max\u001b[0m\u001b[0;34m=\u001b[0m\u001b[0max\u001b[0m\u001b[0;34m,\u001b[0m \u001b[0;34m**\u001b[0m\u001b[0mkwds\u001b[0m\u001b[0;34m)\u001b[0m\u001b[0;34m\u001b[0m\u001b[0;34m\u001b[0m\u001b[0m\n\u001b[0m\u001b[1;32m    129\u001b[0m         \u001b[0max\u001b[0m\u001b[0;34m.\u001b[0m\u001b[0mset_axis_off\u001b[0m\u001b[0;34m(\u001b[0m\u001b[0;34m)\u001b[0m\u001b[0;34m\u001b[0m\u001b[0;34m\u001b[0m\u001b[0m\n\u001b[1;32m    130\u001b[0m         \u001b[0mplt\u001b[0m\u001b[0;34m.\u001b[0m\u001b[0mdraw_if_interactive\u001b[0m\u001b[0;34m(\u001b[0m\u001b[0;34m)\u001b[0m\u001b[0;34m\u001b[0m\u001b[0;34m\u001b[0m\u001b[0m\n",
      "\u001b[0;32m/opt/python/lib/python3.6/site-packages/networkx/drawing/nx_pylab.py\u001b[0m in \u001b[0;36mdraw_networkx\u001b[0;34m(G, pos, arrows, with_labels, **kwds)\u001b[0m\n\u001b[1;32m    277\u001b[0m         \u001b[0mpos\u001b[0m \u001b[0;34m=\u001b[0m \u001b[0mnx\u001b[0m\u001b[0;34m.\u001b[0m\u001b[0mdrawing\u001b[0m\u001b[0;34m.\u001b[0m\u001b[0mspring_layout\u001b[0m\u001b[0;34m(\u001b[0m\u001b[0mG\u001b[0m\u001b[0;34m)\u001b[0m  \u001b[0;31m# default to spring layout\u001b[0m\u001b[0;34m\u001b[0m\u001b[0;34m\u001b[0m\u001b[0m\n\u001b[1;32m    278\u001b[0m \u001b[0;34m\u001b[0m\u001b[0m\n\u001b[0;32m--> 279\u001b[0;31m     \u001b[0mnode_collection\u001b[0m \u001b[0;34m=\u001b[0m \u001b[0mdraw_networkx_nodes\u001b[0m\u001b[0;34m(\u001b[0m\u001b[0mG\u001b[0m\u001b[0;34m,\u001b[0m \u001b[0mpos\u001b[0m\u001b[0;34m,\u001b[0m \u001b[0;34m**\u001b[0m\u001b[0mkwds\u001b[0m\u001b[0;34m)\u001b[0m\u001b[0;34m\u001b[0m\u001b[0;34m\u001b[0m\u001b[0m\n\u001b[0m\u001b[1;32m    280\u001b[0m     \u001b[0medge_collection\u001b[0m \u001b[0;34m=\u001b[0m \u001b[0mdraw_networkx_edges\u001b[0m\u001b[0;34m(\u001b[0m\u001b[0mG\u001b[0m\u001b[0;34m,\u001b[0m \u001b[0mpos\u001b[0m\u001b[0;34m,\u001b[0m \u001b[0marrows\u001b[0m\u001b[0;34m=\u001b[0m\u001b[0marrows\u001b[0m\u001b[0;34m,\u001b[0m \u001b[0;34m**\u001b[0m\u001b[0mkwds\u001b[0m\u001b[0;34m)\u001b[0m\u001b[0;34m\u001b[0m\u001b[0;34m\u001b[0m\u001b[0m\n\u001b[1;32m    281\u001b[0m     \u001b[0;32mif\u001b[0m \u001b[0mwith_labels\u001b[0m\u001b[0;34m:\u001b[0m\u001b[0;34m\u001b[0m\u001b[0;34m\u001b[0m\u001b[0m\n",
      "\u001b[0;32m/opt/python/lib/python3.6/site-packages/networkx/drawing/nx_pylab.py\u001b[0m in \u001b[0;36mdraw_networkx_nodes\u001b[0;34m(G, pos, nodelist, node_size, node_color, node_shape, alpha, cmap, vmin, vmax, ax, linewidths, edgecolors, label, **kwds)\u001b[0m\n\u001b[1;32m    414\u001b[0m                                  \u001b[0mlinewidths\u001b[0m\u001b[0;34m=\u001b[0m\u001b[0mlinewidths\u001b[0m\u001b[0;34m,\u001b[0m\u001b[0;34m\u001b[0m\u001b[0;34m\u001b[0m\u001b[0m\n\u001b[1;32m    415\u001b[0m                                  \u001b[0medgecolors\u001b[0m\u001b[0;34m=\u001b[0m\u001b[0medgecolors\u001b[0m\u001b[0;34m,\u001b[0m\u001b[0;34m\u001b[0m\u001b[0;34m\u001b[0m\u001b[0m\n\u001b[0;32m--> 416\u001b[0;31m                                  label=label)\n\u001b[0m\u001b[1;32m    417\u001b[0m     plt.tick_params(\n\u001b[1;32m    418\u001b[0m         \u001b[0maxis\u001b[0m\u001b[0;34m=\u001b[0m\u001b[0;34m'both'\u001b[0m\u001b[0;34m,\u001b[0m\u001b[0;34m\u001b[0m\u001b[0;34m\u001b[0m\u001b[0m\n",
      "\u001b[0;32m/opt/python/lib/python3.6/site-packages/matplotlib/__init__.py\u001b[0m in \u001b[0;36minner\u001b[0;34m(ax, data, *args, **kwargs)\u001b[0m\n\u001b[1;32m   1599\u001b[0m     \u001b[0;32mdef\u001b[0m \u001b[0minner\u001b[0m\u001b[0;34m(\u001b[0m\u001b[0max\u001b[0m\u001b[0;34m,\u001b[0m \u001b[0;34m*\u001b[0m\u001b[0margs\u001b[0m\u001b[0;34m,\u001b[0m \u001b[0mdata\u001b[0m\u001b[0;34m=\u001b[0m\u001b[0;32mNone\u001b[0m\u001b[0;34m,\u001b[0m \u001b[0;34m**\u001b[0m\u001b[0mkwargs\u001b[0m\u001b[0;34m)\u001b[0m\u001b[0;34m:\u001b[0m\u001b[0;34m\u001b[0m\u001b[0;34m\u001b[0m\u001b[0m\n\u001b[1;32m   1600\u001b[0m         \u001b[0;32mif\u001b[0m \u001b[0mdata\u001b[0m \u001b[0;32mis\u001b[0m \u001b[0;32mNone\u001b[0m\u001b[0;34m:\u001b[0m\u001b[0;34m\u001b[0m\u001b[0;34m\u001b[0m\u001b[0m\n\u001b[0;32m-> 1601\u001b[0;31m             \u001b[0;32mreturn\u001b[0m \u001b[0mfunc\u001b[0m\u001b[0;34m(\u001b[0m\u001b[0max\u001b[0m\u001b[0;34m,\u001b[0m \u001b[0;34m*\u001b[0m\u001b[0mmap\u001b[0m\u001b[0;34m(\u001b[0m\u001b[0msanitize_sequence\u001b[0m\u001b[0;34m,\u001b[0m \u001b[0margs\u001b[0m\u001b[0;34m)\u001b[0m\u001b[0;34m,\u001b[0m \u001b[0;34m**\u001b[0m\u001b[0mkwargs\u001b[0m\u001b[0;34m)\u001b[0m\u001b[0;34m\u001b[0m\u001b[0;34m\u001b[0m\u001b[0m\n\u001b[0m\u001b[1;32m   1602\u001b[0m \u001b[0;34m\u001b[0m\u001b[0m\n\u001b[1;32m   1603\u001b[0m         \u001b[0mbound\u001b[0m \u001b[0;34m=\u001b[0m \u001b[0mnew_sig\u001b[0m\u001b[0;34m.\u001b[0m\u001b[0mbind\u001b[0m\u001b[0;34m(\u001b[0m\u001b[0max\u001b[0m\u001b[0;34m,\u001b[0m \u001b[0;34m*\u001b[0m\u001b[0margs\u001b[0m\u001b[0;34m,\u001b[0m \u001b[0;34m**\u001b[0m\u001b[0mkwargs\u001b[0m\u001b[0;34m)\u001b[0m\u001b[0;34m\u001b[0m\u001b[0;34m\u001b[0m\u001b[0m\n",
      "\u001b[0;32m/opt/python/lib/python3.6/site-packages/matplotlib/axes/_axes.py\u001b[0m in \u001b[0;36mscatter\u001b[0;34m(self, x, y, s, c, marker, cmap, norm, vmin, vmax, alpha, linewidths, verts, edgecolors, plotnonfinite, **kwargs)\u001b[0m\n\u001b[1;32m   4452\u001b[0m             self._parse_scatter_color_args(\n\u001b[1;32m   4453\u001b[0m                 \u001b[0mc\u001b[0m\u001b[0;34m,\u001b[0m \u001b[0medgecolors\u001b[0m\u001b[0;34m,\u001b[0m \u001b[0mkwargs\u001b[0m\u001b[0;34m,\u001b[0m \u001b[0mxshape\u001b[0m\u001b[0;34m,\u001b[0m \u001b[0myshape\u001b[0m\u001b[0;34m,\u001b[0m\u001b[0;34m\u001b[0m\u001b[0;34m\u001b[0m\u001b[0m\n\u001b[0;32m-> 4454\u001b[0;31m                 get_next_color_func=self._get_patches_for_fill.get_next_color)\n\u001b[0m\u001b[1;32m   4455\u001b[0m \u001b[0;34m\u001b[0m\u001b[0m\n\u001b[1;32m   4456\u001b[0m         \u001b[0;32mif\u001b[0m \u001b[0mplotnonfinite\u001b[0m \u001b[0;32mand\u001b[0m \u001b[0mcolors\u001b[0m \u001b[0;32mis\u001b[0m \u001b[0;32mNone\u001b[0m\u001b[0;34m:\u001b[0m\u001b[0;34m\u001b[0m\u001b[0;34m\u001b[0m\u001b[0m\n",
      "\u001b[0;32m/opt/python/lib/python3.6/site-packages/matplotlib/axes/_axes.py\u001b[0m in \u001b[0;36m_parse_scatter_color_args\u001b[0;34m(c, edgecolors, kwargs, xshape, yshape, get_next_color_func)\u001b[0m\n\u001b[1;32m   4296\u001b[0m                         \u001b[0;34m\"acceptable for use with 'x' with size {xs}, \"\u001b[0m\u001b[0;34m\u001b[0m\u001b[0;34m\u001b[0m\u001b[0m\n\u001b[1;32m   4297\u001b[0m                         \u001b[0;34m\"'y' with size {ys}.\"\u001b[0m\u001b[0;34m\u001b[0m\u001b[0;34m\u001b[0m\u001b[0m\n\u001b[0;32m-> 4298\u001b[0;31m                             \u001b[0;34m.\u001b[0m\u001b[0mformat\u001b[0m\u001b[0;34m(\u001b[0m\u001b[0mnc\u001b[0m\u001b[0;34m=\u001b[0m\u001b[0mn_elem\u001b[0m\u001b[0;34m,\u001b[0m \u001b[0mxs\u001b[0m\u001b[0;34m=\u001b[0m\u001b[0mxsize\u001b[0m\u001b[0;34m,\u001b[0m \u001b[0mys\u001b[0m\u001b[0;34m=\u001b[0m\u001b[0mysize\u001b[0m\u001b[0;34m)\u001b[0m\u001b[0;34m\u001b[0m\u001b[0;34m\u001b[0m\u001b[0m\n\u001b[0m\u001b[1;32m   4299\u001b[0m                     )\n\u001b[1;32m   4300\u001b[0m                 \u001b[0;32melse\u001b[0m\u001b[0;34m:\u001b[0m\u001b[0;34m\u001b[0m\u001b[0;34m\u001b[0m\u001b[0m\n",
      "\u001b[0;31mValueError\u001b[0m: 'c' argument has 40 elements, which is not acceptable for use with 'x' with size 10, 'y' with size 10."
     ]
    },
    {
     "data": {
      "image/png": "[encoded data removed]",
      "text/plain": [
       "<Figure size 432x288 with 1 Axes>"
      ]
     },
     "metadata": {},
     "output_type": "display_data"
    }
   ],
   "source": [
    "import matplotlib.pyplot as plt\n",
    "import networkx as nx\n",
    "\n",
    "def show_graph_with_labels(adjacency_matrix, mylabels):\n",
    "    #rows, cols = np.where(adjacency_matrix == 1)\n",
    "    rows, cols = np.where(adjacency_matrix > 10)\n",
    "    print(rows)\n",
    "    print(cols)\n",
    "    edges = zip(rows.tolist(), cols.tolist())\n",
    "    gr = nx.Graph()\n",
    "    gr.add_edges_from(edges)\n",
    "    #nx.draw(gr, node_size=500, labels=mylabels, with_labels=True)\n",
    "    nx.draw(gr, node_color = ncolor ,pos=nx.spring_layout(gr), cmap=plt.cm.jet)\n",
    "    plt.show()\n",
    "\n",
    "show_graph_with_labels(adjacency, mylabel)"
   ]
  },
  {
   "cell_type": "code",
   "execution_count": 102,
   "metadata": {},
   "outputs": [
    {
     "data": {
      "text/plain": [
       "(-1.1220515648542688,\n",
       " 1.1220515724040587,\n",
       " -1.1330773554420717,\n",
       " 1.133077354597804)"
      ]
     },
     "execution_count": 102,
     "metadata": {},
     "output_type": "execute_result"
    },
    {
     "data": {
      "image/png": "[encoded data removed]",
      "text/plain": [
       "<Figure size 432x288 with 1 Axes>"
      ]
     },
     "metadata": {},
     "output_type": "display_data"
    }
   ],
   "source": [
    "G2 = nx.from_numpy_matrix(adjacency)\n",
    "nx.draw_circular(G2, node_color = ncolor , cmap=plt.cm.jet, with_labels=True)\n",
    "plt.axis('equal')"
   ]
  },
  {
   "cell_type": "code",
   "execution_count": null,
   "metadata": {},
   "outputs": [],
   "source": [
    "nx.draw(G, pos=nx.spring_layout(G))  #"
   ]
  },
  {
   "cell_type": "code",
   "execution_count": 44,
   "metadata": {},
   "outputs": [
    {
     "data": {
      "text/html": [
       "<div>\n",
       "<style scoped>\n",
       "    .dataframe tbody tr th:only-of-type {\n",
       "        vertical-align: middle;\n",
       "    }\n",
       "\n",
       "    .dataframe tbody tr th {\n",
       "        vertical-align: top;\n",
       "    }\n",
       "\n",
       "    .dataframe thead th {\n",
       "        text-align: right;\n",
       "    }\n",
       "</style>\n",
       "<table border=\"1\" class=\"dataframe\">\n",
       "  <thead>\n",
       "    <tr style=\"text-align: right;\">\n",
       "      <th></th>\n",
       "      <th>sunglasses_0</th>\n",
       "      <th>sunglasses_1</th>\n",
       "      <th>sunglasses_2</th>\n",
       "      <th>sunglasses_3</th>\n",
       "      <th>sunglasses_4</th>\n",
       "      <th>sunglasses_5</th>\n",
       "      <th>sunglasses_6</th>\n",
       "      <th>sunglasses_7</th>\n",
       "      <th>sunglasses_8</th>\n",
       "      <th>sunglasses_9</th>\n",
       "      <th>...</th>\n",
       "      <th>scarves_10</th>\n",
       "      <th>scarves_11</th>\n",
       "      <th>scarves_12</th>\n",
       "      <th>scarves_13</th>\n",
       "      <th>scarves_14</th>\n",
       "      <th>scarves_15</th>\n",
       "      <th>scarves_16</th>\n",
       "      <th>scarves_17</th>\n",
       "      <th>scarves_18</th>\n",
       "      <th>scarves_19</th>\n",
       "    </tr>\n",
       "  </thead>\n",
       "  <tbody>\n",
       "    <tr>\n",
       "      <th>tops_0</th>\n",
       "      <td>9.0</td>\n",
       "      <td>16.0</td>\n",
       "      <td>14.0</td>\n",
       "      <td>18.0</td>\n",
       "      <td>6.0</td>\n",
       "      <td>20.0</td>\n",
       "      <td>10.0</td>\n",
       "      <td>16.0</td>\n",
       "      <td>13.0</td>\n",
       "      <td>68.0</td>\n",
       "      <td>...</td>\n",
       "      <td>4.0</td>\n",
       "      <td>1.0</td>\n",
       "      <td>3.0</td>\n",
       "      <td>3.0</td>\n",
       "      <td>33.0</td>\n",
       "      <td>11.0</td>\n",
       "      <td>1.0</td>\n",
       "      <td>4.0</td>\n",
       "      <td>1.0</td>\n",
       "      <td>1.0</td>\n",
       "    </tr>\n",
       "  </tbody>\n",
       "</table>\n",
       "<p>1 rows × 220 columns</p>\n",
       "</div>"
      ],
      "text/plain": [
       "        sunglasses_0  sunglasses_1  sunglasses_2  sunglasses_3  sunglasses_4  \\\n",
       "tops_0           9.0          16.0          14.0          18.0           6.0   \n",
       "\n",
       "        sunglasses_5  sunglasses_6  sunglasses_7  sunglasses_8  sunglasses_9  \\\n",
       "tops_0          20.0          10.0          16.0          13.0          68.0   \n",
       "\n",
       "        ...  scarves_10  scarves_11  scarves_12  scarves_13  scarves_14  \\\n",
       "tops_0  ...         4.0         1.0         3.0         3.0        33.0   \n",
       "\n",
       "        scarves_15  scarves_16  scarves_17  scarves_18  scarves_19  \n",
       "tops_0        11.0         1.0         4.0         1.0         1.0  \n",
       "\n",
       "[1 rows x 220 columns]"
      ]
     },
     "execution_count": 44,
     "metadata": {},
     "output_type": "execute_result"
    }
   ],
   "source": [
    "AdjMat[AdjMat.columns=='tops_0']"
   ]
  },
  {
   "cell_type": "code",
   "execution_count": 39,
   "metadata": {},
   "outputs": [],
   "source": [
    "sample = adjacency[40:50, 40:50]"
   ]
  },
  {
   "cell_type": "code",
   "execution_count": 40,
   "metadata": {},
   "outputs": [
    {
     "name": "stderr",
     "output_type": "stream",
     "text": [
      "/opt/python/lib/python3.6/site-packages/ipykernel_launcher.py:1: RuntimeWarning: divide by zero encountered in true_divide\n",
      "  \"\"\"Entry point for launching an IPython kernel.\n"
     ]
    }
   ],
   "source": [
    "sample = 1/sample"
   ]
  },
  {
   "cell_type": "code",
   "execution_count": 41,
   "metadata": {},
   "outputs": [
    {
     "data": {
      "text/plain": [
       "array([[       inf,        inf,        inf,        inf,        inf,\n",
       "               inf,        inf,        inf,        inf,        inf],\n",
       "       [       inf,        inf,        inf,        inf,        inf,\n",
       "               inf,        inf,        inf,        inf,        inf],\n",
       "       [       inf,        inf, 0.08333333,        inf,        inf,\n",
       "        0.1       , 0.33333333, 0.33333333,        inf,        inf],\n",
       "       [       inf,        inf,        inf,        inf,        inf,\n",
       "               inf,        inf,        inf,        inf,        inf],\n",
       "       [       inf,        inf,        inf,        inf,        inf,\n",
       "               inf,        inf,        inf,        inf,        inf],\n",
       "       [       inf,        inf, 0.1       ,        inf,        inf,\n",
       "        0.125     , 0.2       , 0.5       ,        inf,        inf],\n",
       "       [       inf,        inf, 0.33333333,        inf,        inf,\n",
       "        0.2       , 0.16666667, 0.5       ,        inf,        inf],\n",
       "       [       inf,        inf, 0.33333333,        inf,        inf,\n",
       "        0.5       , 0.5       , 0.25      ,        inf,        inf],\n",
       "       [       inf,        inf,        inf,        inf,        inf,\n",
       "               inf,        inf,        inf,        inf,        inf],\n",
       "       [       inf,        inf,        inf,        inf,        inf,\n",
       "               inf,        inf,        inf,        inf,        inf]])"
      ]
     },
     "execution_count": 41,
     "metadata": {},
     "output_type": "execute_result"
    }
   ],
   "source": [
    "sample"
   ]
  },
  {
   "cell_type": "markdown",
   "metadata": {},
   "source": [
    "## single type "
   ]
  },
  {
   "cell_type": "code",
   "execution_count": 35,
   "metadata": {},
   "outputs": [],
   "source": [
    "mask_type = 'tops'"
   ]
  },
  {
   "cell_type": "code",
   "execution_count": 36,
   "metadata": {},
   "outputs": [],
   "source": [
    "mask = type2idxs[mask_type]"
   ]
  },
  {
   "cell_type": "code",
   "execution_count": 37,
   "metadata": {
    "scrolled": true
   },
   "outputs": [
    {
     "data": {
      "text/html": [
       "<div>\n",
       "<style scoped>\n",
       "    .dataframe tbody tr th:only-of-type {\n",
       "        vertical-align: middle;\n",
       "    }\n",
       "\n",
       "    .dataframe tbody tr th {\n",
       "        vertical-align: top;\n",
       "    }\n",
       "\n",
       "    .dataframe thead th {\n",
       "        text-align: right;\n",
       "    }\n",
       "</style>\n",
       "<table border=\"1\" class=\"dataframe\">\n",
       "  <thead>\n",
       "    <tr style=\"text-align: right;\">\n",
       "      <th></th>\n",
       "      <th>image</th>\n",
       "      <th>type</th>\n",
       "    </tr>\n",
       "  </thead>\n",
       "  <tbody>\n",
       "    <tr>\n",
       "      <th>0</th>\n",
       "      <td>100005237</td>\n",
       "      <td>accessories</td>\n",
       "    </tr>\n",
       "    <tr>\n",
       "      <th>1</th>\n",
       "      <td>100015328</td>\n",
       "      <td>bags</td>\n",
       "    </tr>\n",
       "    <tr>\n",
       "      <th>2</th>\n",
       "      <td>100019428</td>\n",
       "      <td>bottoms</td>\n",
       "    </tr>\n",
       "    <tr>\n",
       "      <th>3</th>\n",
       "      <td>100020521</td>\n",
       "      <td>bags</td>\n",
       "    </tr>\n",
       "    <tr>\n",
       "      <th>4</th>\n",
       "      <td>100029428</td>\n",
       "      <td>bags</td>\n",
       "    </tr>\n",
       "  </tbody>\n",
       "</table>\n",
       "</div>"
      ],
      "text/plain": [
       "       image         type\n",
       "0  100005237  accessories\n",
       "1  100015328         bags\n",
       "2  100019428      bottoms\n",
       "3  100020521         bags\n",
       "4  100029428         bags"
      ]
     },
     "execution_count": 37,
     "metadata": {},
     "output_type": "execute_result"
    }
   ],
   "source": [
    "indexlist.head()"
   ]
  },
  {
   "cell_type": "code",
   "execution_count": 38,
   "metadata": {
    "scrolled": true
   },
   "outputs": [],
   "source": [
    "typeindex = indexlist.iloc[mask.nonzero().view(-1)]"
   ]
  },
  {
   "cell_type": "code",
   "execution_count": 39,
   "metadata": {},
   "outputs": [
    {
     "data": {
      "text/html": [
       "<div>\n",
       "<style scoped>\n",
       "    .dataframe tbody tr th:only-of-type {\n",
       "        vertical-align: middle;\n",
       "    }\n",
       "\n",
       "    .dataframe tbody tr th {\n",
       "        vertical-align: top;\n",
       "    }\n",
       "\n",
       "    .dataframe thead th {\n",
       "        text-align: right;\n",
       "    }\n",
       "</style>\n",
       "<table border=\"1\" class=\"dataframe\">\n",
       "  <thead>\n",
       "    <tr style=\"text-align: right;\">\n",
       "      <th></th>\n",
       "      <th>image</th>\n",
       "      <th>type</th>\n",
       "    </tr>\n",
       "  </thead>\n",
       "  <tbody>\n",
       "    <tr>\n",
       "      <th>26</th>\n",
       "      <td>100159444</td>\n",
       "      <td>tops</td>\n",
       "    </tr>\n",
       "    <tr>\n",
       "      <th>33</th>\n",
       "      <td>100262409</td>\n",
       "      <td>tops</td>\n",
       "    </tr>\n",
       "    <tr>\n",
       "      <th>45</th>\n",
       "      <td>100403831</td>\n",
       "      <td>tops</td>\n",
       "    </tr>\n",
       "    <tr>\n",
       "      <th>49</th>\n",
       "      <td>100428043</td>\n",
       "      <td>tops</td>\n",
       "    </tr>\n",
       "    <tr>\n",
       "      <th>53</th>\n",
       "      <td>100457408</td>\n",
       "      <td>tops</td>\n",
       "    </tr>\n",
       "  </tbody>\n",
       "</table>\n",
       "</div>"
      ],
      "text/plain": [
       "        image  type\n",
       "26  100159444  tops\n",
       "33  100262409  tops\n",
       "45  100403831  tops\n",
       "49  100428043  tops\n",
       "53  100457408  tops"
      ]
     },
     "execution_count": 39,
     "metadata": {},
     "output_type": "execute_result"
    }
   ],
   "source": [
    "typeindex.head()"
   ]
  },
  {
   "cell_type": "code",
   "execution_count": 40,
   "metadata": {},
   "outputs": [
    {
     "data": {
      "text/plain": [
       "torch.Size([47854, 64])"
      ]
     },
     "execution_count": 40,
     "metadata": {},
     "output_type": "execute_result"
    }
   ],
   "source": [
    "raw_embeddings.shape"
   ]
  },
  {
   "cell_type": "code",
   "execution_count": 41,
   "metadata": {},
   "outputs": [
    {
     "data": {
      "text/plain": [
       "tensor([[ 0.0263,  0.0235, -0.0913,  ...,  0.1594,  0.0030, -0.0761],\n",
       "        [-0.0087, -0.0295, -0.0660,  ...,  0.0743,  0.0116,  0.0122],\n",
       "        [-0.0449, -0.0033, -0.1001,  ...,  0.1252, -0.0136, -0.0191],\n",
       "        ...,\n",
       "        [-0.0422,  0.0234, -0.0445,  ...,  0.1411,  0.0033,  0.0129],\n",
       "        [ 0.0029, -0.0566, -0.0908,  ...,  0.1854, -0.0367, -0.0120],\n",
       "        [-0.0522, -0.0485, -0.0308,  ...,  0.0575, -0.0242, -0.0163]])"
      ]
     },
     "execution_count": 41,
     "metadata": {},
     "output_type": "execute_result"
    }
   ],
   "source": [
    "raw_embeddings"
   ]
  },
  {
   "cell_type": "code",
   "execution_count": 42,
   "metadata": {},
   "outputs": [],
   "source": [
    "type_emb = raw_embeddings[mask.nonzero().view(-1)]"
   ]
  },
  {
   "cell_type": "code",
   "execution_count": 44,
   "metadata": {},
   "outputs": [
    {
     "name": "stderr",
     "output_type": "stream",
     "text": [
      "/opt/python/lib/python3.6/site-packages/sklearn/base.py:306: UserWarning: Trying to unpickle estimator KMeans from version 0.21.3 when using version 0.21.2. This might lead to breaking code or invalid results. Use at your own risk.\n",
      "  UserWarning)\n"
     ]
    }
   ],
   "source": [
    "type_, num = mask_type, 10\n",
    "model = \"{}_{}.joblib\".format(type_, num)\n",
    "kmeans = joblib.load(\"./model/{}\".format(model))\n",
    "pred = kmeans.predict(type_emb)"
   ]
  },
  {
   "cell_type": "code",
   "execution_count": 45,
   "metadata": {},
   "outputs": [
    {
     "data": {
      "text/plain": [
       "array([5, 9, 8, ..., 8, 8, 9], dtype=int32)"
      ]
     },
     "execution_count": 45,
     "metadata": {},
     "output_type": "execute_result"
    }
   ],
   "source": [
    "pred"
   ]
  },
  {
   "cell_type": "code",
   "execution_count": 46,
   "metadata": {},
   "outputs": [
    {
     "name": "stderr",
     "output_type": "stream",
     "text": [
      "/opt/python/lib/python3.6/site-packages/ipykernel_launcher.py:1: SettingWithCopyWarning: \n",
      "A value is trying to be set on a copy of a slice from a DataFrame.\n",
      "Try using .loc[row_indexer,col_indexer] = value instead\n",
      "\n",
      "See the caveats in the documentation: http://pandas.pydata.org/pandas-docs/stable/indexing.html#indexing-view-versus-copy\n",
      "  \"\"\"Entry point for launching an IPython kernel.\n"
     ]
    }
   ],
   "source": [
    "typeindex['class'] = pred"
   ]
  },
  {
   "cell_type": "code",
   "execution_count": 47,
   "metadata": {},
   "outputs": [
    {
     "data": {
      "text/html": [
       "<div>\n",
       "<style scoped>\n",
       "    .dataframe tbody tr th:only-of-type {\n",
       "        vertical-align: middle;\n",
       "    }\n",
       "\n",
       "    .dataframe tbody tr th {\n",
       "        vertical-align: top;\n",
       "    }\n",
       "\n",
       "    .dataframe thead th {\n",
       "        text-align: right;\n",
       "    }\n",
       "</style>\n",
       "<table border=\"1\" class=\"dataframe\">\n",
       "  <thead>\n",
       "    <tr style=\"text-align: right;\">\n",
       "      <th></th>\n",
       "      <th>image</th>\n",
       "      <th>type</th>\n",
       "      <th>class</th>\n",
       "    </tr>\n",
       "  </thead>\n",
       "  <tbody>\n",
       "    <tr>\n",
       "      <th>26</th>\n",
       "      <td>100159444</td>\n",
       "      <td>tops</td>\n",
       "      <td>5</td>\n",
       "    </tr>\n",
       "    <tr>\n",
       "      <th>33</th>\n",
       "      <td>100262409</td>\n",
       "      <td>tops</td>\n",
       "      <td>9</td>\n",
       "    </tr>\n",
       "    <tr>\n",
       "      <th>45</th>\n",
       "      <td>100403831</td>\n",
       "      <td>tops</td>\n",
       "      <td>8</td>\n",
       "    </tr>\n",
       "    <tr>\n",
       "      <th>49</th>\n",
       "      <td>100428043</td>\n",
       "      <td>tops</td>\n",
       "      <td>8</td>\n",
       "    </tr>\n",
       "    <tr>\n",
       "      <th>53</th>\n",
       "      <td>100457408</td>\n",
       "      <td>tops</td>\n",
       "      <td>2</td>\n",
       "    </tr>\n",
       "  </tbody>\n",
       "</table>\n",
       "</div>"
      ],
      "text/plain": [
       "        image  type  class\n",
       "26  100159444  tops      5\n",
       "33  100262409  tops      9\n",
       "45  100403831  tops      8\n",
       "49  100428043  tops      8\n",
       "53  100457408  tops      2"
      ]
     },
     "execution_count": 47,
     "metadata": {},
     "output_type": "execute_result"
    }
   ],
   "source": [
    "typeindex.head()"
   ]
  },
  {
   "cell_type": "code",
   "execution_count": 66,
   "metadata": {},
   "outputs": [
    {
     "ename": "TypeError",
     "evalue": "only size-1 arrays can be converted to Python scalars",
     "output_type": "error",
     "traceback": [
      "\u001b[0;31m---------------------------------------------------------------------------\u001b[0m",
      "\u001b[0;31mTypeError\u001b[0m                                 Traceback (most recent call last)",
      "\u001b[0;32m<ipython-input-66-e9752fab1343>\u001b[0m in \u001b[0;36m<module>\u001b[0;34m\u001b[0m\n\u001b[0;32m----> 1\u001b[0;31m \u001b[0mindexlist\u001b[0m\u001b[0;34m.\u001b[0m\u001b[0mloc\u001b[0m\u001b[0;34m[\u001b[0m\u001b[0mmask\u001b[0m\u001b[0;34m.\u001b[0m\u001b[0mnonzero\u001b[0m\u001b[0;34m(\u001b[0m\u001b[0;34m)\u001b[0m\u001b[0;34m.\u001b[0m\u001b[0mview\u001b[0m\u001b[0;34m(\u001b[0m\u001b[0;34m-\u001b[0m\u001b[0;36m1\u001b[0m\u001b[0;34m)\u001b[0m\u001b[0;34m,\u001b[0m \u001b[0;34m'class'\u001b[0m\u001b[0;34m]\u001b[0m \u001b[0;34m=\u001b[0m \u001b[0mint\u001b[0m\u001b[0;34m(\u001b[0m\u001b[0mpred\u001b[0m\u001b[0;34m)\u001b[0m\u001b[0;34m\u001b[0m\u001b[0;34m\u001b[0m\u001b[0m\n\u001b[0m",
      "\u001b[0;31mTypeError\u001b[0m: only size-1 arrays can be converted to Python scalars"
     ]
    }
   ],
   "source": [
    "indexlist.loc[mask.nonzero().view(-1), 'class'] = int(pred)"
   ]
  },
  {
   "cell_type": "code",
   "execution_count": 270,
   "metadata": {
    "scrolled": true
   },
   "outputs": [
    {
     "data": {
      "text/html": [
       "<div>\n",
       "<style scoped>\n",
       "    .dataframe tbody tr th:only-of-type {\n",
       "        vertical-align: middle;\n",
       "    }\n",
       "\n",
       "    .dataframe tbody tr th {\n",
       "        vertical-align: top;\n",
       "    }\n",
       "\n",
       "    .dataframe thead th {\n",
       "        text-align: right;\n",
       "    }\n",
       "</style>\n",
       "<table border=\"1\" class=\"dataframe\">\n",
       "  <thead>\n",
       "    <tr style=\"text-align: right;\">\n",
       "      <th></th>\n",
       "      <th>image</th>\n",
       "      <th>type</th>\n",
       "    </tr>\n",
       "  </thead>\n",
       "  <tbody>\n",
       "    <tr>\n",
       "      <th>47849</th>\n",
       "      <td>99983742</td>\n",
       "      <td>shoes</td>\n",
       "    </tr>\n",
       "    <tr>\n",
       "      <th>47850</th>\n",
       "      <td>99984234</td>\n",
       "      <td>jewellery</td>\n",
       "    </tr>\n",
       "    <tr>\n",
       "      <th>47851</th>\n",
       "      <td>99985765</td>\n",
       "      <td>bags</td>\n",
       "    </tr>\n",
       "    <tr>\n",
       "      <th>47852</th>\n",
       "      <td>99989430</td>\n",
       "      <td>shoes</td>\n",
       "    </tr>\n",
       "    <tr>\n",
       "      <th>47853</th>\n",
       "      <td>99991996</td>\n",
       "      <td>jewellery</td>\n",
       "    </tr>\n",
       "  </tbody>\n",
       "</table>\n",
       "</div>"
      ],
      "text/plain": [
       "          image       type\n",
       "47849  99983742      shoes\n",
       "47850  99984234  jewellery\n",
       "47851  99985765       bags\n",
       "47852  99989430      shoes\n",
       "47853  99991996  jewellery"
      ]
     },
     "execution_count": 270,
     "metadata": {},
     "output_type": "execute_result"
    }
   ],
   "source": [
    "indexlist.tail()"
   ]
  },
  {
   "cell_type": "code",
   "execution_count": 267,
   "metadata": {},
   "outputs": [
    {
     "data": {
      "text/plain": [
       "tensor([ 0.1152,  0.0057, -0.1071,  0.0657,  0.0091,  0.1132, -0.0343, -0.0228,\n",
       "        -0.0375,  0.0400,  0.0782, -0.0532,  0.0783,  0.0035, -0.0197, -0.0170,\n",
       "         0.0131,  0.0281, -0.0128, -0.0403,  0.0046, -0.1328,  0.0304,  0.0756,\n",
       "        -0.0318,  0.0016, -0.0025,  0.0323, -0.0431, -0.0180, -0.1734, -0.1197,\n",
       "         0.0516,  0.0617,  0.0390, -0.0609, -0.1809, -0.0497,  0.0024,  0.0663,\n",
       "         0.1160, -0.0076, -0.0314, -0.0777,  0.0524,  0.0255, -0.0400,  0.1152,\n",
       "        -0.0150, -0.0021, -0.0131, -0.0142,  0.1328, -0.0763, -0.0003, -0.0544,\n",
       "         0.1238,  0.0849, -0.1567, -0.0530,  0.0405, -0.0197,  0.0207,  0.0335])"
      ]
     },
     "execution_count": 267,
     "metadata": {},
     "output_type": "execute_result"
    }
   ],
   "source": [
    "embeddings[26][-1]"
   ]
  },
  {
   "cell_type": "code",
   "execution_count": 266,
   "metadata": {},
   "outputs": [
    {
     "data": {
      "text/plain": [
       "204679"
      ]
     },
     "execution_count": 266,
     "metadata": {},
     "output_type": "execute_result"
    }
   ],
   "source": [
    "len(embeddings)"
   ]
  },
  {
   "cell_type": "code",
   "execution_count": null,
   "metadata": {},
   "outputs": [],
   "source": []
  }
 ],
 "metadata": {
  "kernelspec": {
   "display_name": "Python 3",
   "language": "python",
   "name": "python3"
  },
  "language_info": {
   "codemirror_mode": {
    "name": "ipython",
    "version": 3
   },
   "file_extension": ".py",
   "mimetype": "text/x-python",
   "name": "python",
   "nbconvert_exporter": "python",
   "pygments_lexer": "ipython3",
   "version": "3.6.8"
  }
 },
 "nbformat": 4,
 "nbformat_minor": 2
}
